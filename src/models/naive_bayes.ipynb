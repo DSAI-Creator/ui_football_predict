{
 "cells": [
  {
   "cell_type": "code",
   "execution_count": 5,
   "metadata": {},
   "outputs": [],
   "source": [
    "import pandas as pd\n",
    "import numpy as np\n",
    "import matplotlib.pyplot as plt\n",
    "\n",
    "# Load the data\n",
    "data = pd.read_csv('D:\\dev\\project\\Football-Match-Prediction\\data\\processed\\df_merged.csv')"
   ]
  },
  {
   "cell_type": "code",
   "execution_count": 6,
   "metadata": {},
   "outputs": [
    {
     "data": {
      "text/plain": [
       "Index(['Time', 'Season', 'Round', 'HomeTeam_GF', 'HomeTeam_Result',\n",
       "       'HomeTeam_Standard__SoT%_avg_last5', 'HomeTeam_GCA Types__TO_avg_last5',\n",
       "       'HomeTeam_Standard__G/Sh_avg_last5',\n",
       "       'HomeTeam_GCA Types__GCA_avg_last5',\n",
       "       'HomeTeam_Challenges__Lost_avg_last5',\n",
       "       'HomeTeam_Performance__Save%_avg_last5',\n",
       "       'HomeTeam_GCA Types__Sh_avg_last5', 'HomeTeam_Standard__SoT_avg_last5',\n",
       "       'HomeTeam_Performance__PSxG_avg_last5', 'HomeTeam_Clr_avg_last5',\n",
       "       'HomeTeam_Performance__CS_avg_last5',\n",
       "       'HomeTeam_Standard__G/SoT_avg_last5', 'HomeTeam_Err_avg_last5',\n",
       "       'HomeTeam_GCA Types__PassLive_avg_last5', 'HomeTeam_CurrentPoints',\n",
       "       'HomeTeam_LastSeasonPoints', 'HomeTeam', 'AwayTeam', 'AwayTeam_GF',\n",
       "       'AwayTeam_Standard__SoT%_avg_last5', 'AwayTeam_GCA Types__TO_avg_last5',\n",
       "       'AwayTeam_Standard__G/Sh_avg_last5',\n",
       "       'AwayTeam_GCA Types__GCA_avg_last5',\n",
       "       'AwayTeam_Challenges__Lost_avg_last5',\n",
       "       'AwayTeam_Performance__Save%_avg_last5',\n",
       "       'AwayTeam_GCA Types__Sh_avg_last5', 'AwayTeam_Standard__SoT_avg_last5',\n",
       "       'AwayTeam_Performance__PSxG_avg_last5', 'AwayTeam_Clr_avg_last5',\n",
       "       'AwayTeam_Performance__CS_avg_last5',\n",
       "       'AwayTeam_Standard__G/SoT_avg_last5', 'AwayTeam_Err_avg_last5',\n",
       "       'AwayTeam_GCA Types__PassLive_avg_last5', 'AwayTeam_CurrentPoints',\n",
       "       'AwayTeam_LastSeasonPoints', 'H2H_Total_Matches', 'H2H_Home_Wins',\n",
       "       'H2H_Away_Wins', 'H2H_Draws', 'H2H_Home_Goals', 'H2H_Away_Goals'],\n",
       "      dtype='object')"
      ]
     },
     "execution_count": 6,
     "metadata": {},
     "output_type": "execute_result"
    }
   ],
   "source": [
    "data.columns"
   ]
  },
  {
   "cell_type": "code",
   "execution_count": 7,
   "metadata": {},
   "outputs": [],
   "source": [
    "# Ensure 'Time' is in datetime format\n",
    "data['Time'] = pd.to_datetime(data['Time'])\n",
    "# Split the data into training and validation sets\n",
    "train = data[data['Season'] < 2023]\n",
    "valid = data[data['Season'] >= 2023]\n",
    "train = train.iloc[50:]"
   ]
  },
  {
   "cell_type": "code",
   "execution_count": 11,
   "metadata": {},
   "outputs": [],
   "source": [
    "from sklearn.preprocessing import StandardScaler\n",
    "\n",
    "\n",
    "y_train = train['HomeTeam_Result'].map({'W' : 2, 'D' : 1, 'L' : 0})\n",
    "y_valid = valid['HomeTeam_Result'].map({'W' : 2, 'D' : 1, 'L' : 0})\n",
    "X_train = train[['HomeTeam', 'AwayTeam']]\n",
    "X_valid = valid[['HomeTeam', 'AwayTeam']]\n",
    "# X_train = train.drop(columns=['Time', 'Season', 'HomeTeam_Result', 'HomeTeam_GF', 'AwayTeam_GF'])\n",
    "# X_valid = valid.drop(columns=['Time', 'Season', 'HomeTeam_Result', 'HomeTeam_GF', 'AwayTeam_GF'])"
   ]
  },
  {
   "cell_type": "code",
   "execution_count": 12,
   "metadata": {},
   "outputs": [
    {
     "data": {
      "text/plain": [
       "((2230, 2), (2230,), (480, 2), (480,))"
      ]
     },
     "execution_count": 12,
     "metadata": {},
     "output_type": "execute_result"
    }
   ],
   "source": [
    "X_train.shape, y_train.shape, X_valid.shape, y_valid.shape"
   ]
  },
  {
   "cell_type": "code",
   "execution_count": 13,
   "metadata": {},
   "outputs": [
    {
     "data": {
      "text/html": [
       "<div>\n",
       "<style scoped>\n",
       "    .dataframe tbody tr th:only-of-type {\n",
       "        vertical-align: middle;\n",
       "    }\n",
       "\n",
       "    .dataframe tbody tr th {\n",
       "        vertical-align: top;\n",
       "    }\n",
       "\n",
       "    .dataframe thead th {\n",
       "        text-align: right;\n",
       "    }\n",
       "</style>\n",
       "<table border=\"1\" class=\"dataframe\">\n",
       "  <thead>\n",
       "    <tr style=\"text-align: right;\">\n",
       "      <th></th>\n",
       "      <th>HomeTeam</th>\n",
       "      <th>AwayTeam</th>\n",
       "    </tr>\n",
       "  </thead>\n",
       "  <tbody>\n",
       "    <tr>\n",
       "      <th>2280</th>\n",
       "      <td>Almeria</td>\n",
       "      <td>Rayo Vallecano</td>\n",
       "    </tr>\n",
       "    <tr>\n",
       "      <th>2281</th>\n",
       "      <td>Sevilla</td>\n",
       "      <td>Valencia</td>\n",
       "    </tr>\n",
       "    <tr>\n",
       "      <th>2282</th>\n",
       "      <td>Real Sociedad</td>\n",
       "      <td>Girona</td>\n",
       "    </tr>\n",
       "    <tr>\n",
       "      <th>2283</th>\n",
       "      <td>Las Palmas</td>\n",
       "      <td>Mallorca</td>\n",
       "    </tr>\n",
       "    <tr>\n",
       "      <th>2284</th>\n",
       "      <td>Athletic Club</td>\n",
       "      <td>Real Madrid</td>\n",
       "    </tr>\n",
       "  </tbody>\n",
       "</table>\n",
       "</div>"
      ],
      "text/plain": [
       "           HomeTeam        AwayTeam\n",
       "2280        Almeria  Rayo Vallecano\n",
       "2281        Sevilla        Valencia\n",
       "2282  Real Sociedad          Girona\n",
       "2283     Las Palmas        Mallorca\n",
       "2284  Athletic Club     Real Madrid"
      ]
     },
     "execution_count": 13,
     "metadata": {},
     "output_type": "execute_result"
    }
   ],
   "source": [
    "X_valid.head()"
   ]
  },
  {
   "cell_type": "code",
   "execution_count": 14,
   "metadata": {},
   "outputs": [],
   "source": [
    "one_hot = True\n",
    "if one_hot == True:\n",
    "    # One-hot encode the team names\n",
    "    X_train = pd.get_dummies(X_train, columns=['HomeTeam', 'AwayTeam'])\n",
    "    X_valid = pd.get_dummies(X_valid, columns=['HomeTeam', 'AwayTeam'])\n",
    "    # Align the columns of X_valid to match X_train\n",
    "    X_valid = X_valid.reindex(columns=X_train.columns, fill_value=0)\n",
    "else:\n",
    "    # Label encode the team names\n",
    "    from sklearn.preprocessing import LabelEncoder\n",
    "    le = LabelEncoder()\n",
    "    all_teams = pd.concat([X_train['HomeTeam'], X_train['AwayTeam'], X_valid['HomeTeam'], X_valid['AwayTeam']])\n",
    "    le.fit(all_teams)\n",
    "    X_train['HomeTeam'] = le.transform(X_train['HomeTeam'])\n",
    "    X_train['AwayTeam'] = le.transform(X_train['AwayTeam'])\n",
    "    X_valid['HomeTeam'] = le.transform(X_valid['HomeTeam'])\n",
    "    X_valid['AwayTeam'] = le.transform(X_valid['AwayTeam'])\n",
    "    "
   ]
  },
  {
   "cell_type": "code",
   "execution_count": 18,
   "metadata": {},
   "outputs": [
    {
     "name": "stdout",
     "output_type": "stream",
     "text": [
      "              precision    recall  f1-score   support\n",
      "\n",
      "           0       0.48      0.47      0.48       133\n",
      "           1       0.39      0.05      0.09       135\n",
      "           2       0.54      0.84      0.66       212\n",
      "\n",
      "    accuracy                           0.52       480\n",
      "   macro avg       0.47      0.46      0.41       480\n",
      "weighted avg       0.48      0.52      0.45       480\n",
      "\n"
     ]
    },
    {
     "data": {
      "image/png": "[encoded data removed]",
      "text/plain": [
       "<Figure size 640x480 with 2 Axes>"
      ]
     },
     "metadata": {},
     "output_type": "display_data"
    }
   ],
   "source": [
    "from sklearn.naive_bayes import BernoulliNB\n",
    "from sklearn.metrics import classification_report, confusion_matrix\n",
    "import seaborn as sns\n",
    "# Initialize the model\n",
    "nb_model = BernoulliNB()\n",
    "\n",
    "# Train the model\n",
    "nb_model.fit(X_train, y_train)\n",
    "\n",
    "# Predict on the validation set\n",
    "y_pred = nb_model.predict(X_valid)\n",
    "\n",
    "# Evaluate the model\n",
    "sns.heatmap(confusion_matrix(y_valid, y_pred), annot=True, fmt='d', cmap='Blues')\n",
    "print(classification_report(y_valid, y_pred))"
   ]
  }
 ],
 "metadata": {
  "kernelspec": {
   "display_name": "base",
   "language": "python",
   "name": "python3"
  },
  "language_info": {
   "codemirror_mode": {
    "name": "ipython",
    "version": 3
   },
   "file_extension": ".py",
   "mimetype": "text/x-python",
   "name": "python",
   "nbconvert_exporter": "python",
   "pygments_lexer": "ipython3",
   "version": "3.11.5"
  }
 },
 "nbformat": 4,
 "nbformat_minor": 2
}
