{
 "cells": [
  {
   "cell_type": "markdown",
   "metadata": {},
   "source": [
    "### Plan\n",
    "#### 1. Data Collection\n",
    "#### 2. Preprocessed data\n",
    "#### 3. Feature engineering\n",
    "#### 4. Modeling\n",
    "#### 5. Evaluation"
   ]
  },
  {
   "cell_type": "markdown",
   "metadata": {},
   "source": [
    "### 1. Data collection"
   ]
  },
  {
   "cell_type": "markdown",
   "metadata": {},
   "source": [
    "### Sofascore\n",
    "\n",
    "![SofaScore](./images/sofascore.png)\n"
   ]
  },
  {
   "cell_type": "markdown",
   "metadata": {},
   "source": [
    "### Livescore\n",
    "\n",
    "![LiveScore](./images/livescore.png)"
   ]
  },
  {
   "cell_type": "markdown",
   "metadata": {},
   "source": [
    "### Whoscored\n",
    "\n",
    "![WhoScored](./images/whoscored.png)\n"
   ]
  },
  {
   "cell_type": "markdown",
   "metadata": {},
   "source": [
    "Scrape dc càng nhiều nguồn thì càng tốt"
   ]
  },
  {
   "cell_type": "markdown",
   "metadata": {},
   "source": [
    "### 2. Preprocess data\n",
    "\n",
    "Chuyển data về dạng bảng \n",
    "\n",
    "Vd"
   ]
  },
  {
   "cell_type": "code",
   "execution_count": 1,
   "metadata": {},
   "source": [
    "import pandas as pd\n",
    "import random\n",
    "\n",
    "# data = {\n",
    "#     'Team A': ['Liverpool', 'Mancity', 'Mancity'],\n",
    "#     'Team B': ['Arsenal', 'Real Madrid', 'Barcelona'],\n",
    "#     'Goals A': [1, 2, 3],\n",
    "#     'Goals B': [0, 1, 2],\n",
    "#     'Shots A': [10, 15, 20],\n",
    "#     'Shots B': [5, 10, 15],\n",
    "#     'Shots on Target A': [5, 10, 15],\n",
    "#     'Shots on Target B': [3, 6, 9],\n",
    "#     'Possession % A': [55, 60, 65],\n",
    "#     'Possession % B': [45, 40, 35],\n",
    "#     'Passes A': [400, 500, 600],\n",
    "#     'Passes B': [300, 200, 100],\n",
    "#     'Fouls A': [10, 20, 30],\n",
    "#     'Fouls B': [5, 10, 15],\n",
    "#     'Yellow Cards A': [1, 2, 3],\n",
    "#     'Yellow Cards B': [0, 1, 2],\n",
    "#     'Red Cards A': [0, 0, 1],\n",
    "#     'Red Cards B': [0, 0, 0],\n",
    "# }\n",
    "teams = ['Liverpool', 'Mancity', 'Arsenal', 'Chelsea', 'Tottenham', 'Real Madrid', 'Barcelona', 'Atletico Madrid', 'Juventus', 'AC Milan']\n",
    "data = {\n",
    "    'Time': pd.date_range(start='1/1/2020', periods=100, freq='D'),\n",
    "    'Team A': [],\n",
    "    'Team B': [],\n",
    "    'Goals A': [random.randint(0, 5) for _ in range(100)],\n",
    "    'Goals B': [random.randint(0, 5) for _ in range(100)],\n",
    "    'Shots A': [random.randint(5, 25) for _ in range(100)],\n",
    "    'Shots B': [random.randint(5, 25) for _ in range(100)],\n",
    "    'Shots on Target A': [random.randint(1, 10) for _ in range(100)],\n",
    "    'Shots on Target B': [random.randint(1, 10) for _ in range(100)],\n",
    "    'Possession % A': [random.randint(40, 60) for _ in range(100)],\n",
    "    'Possession % B': [],\n",
    "    'Passes A': [random.randint(200, 800) for _ in range(100)],\n",
    "    'Passes B': [random.randint(200, 800) for _ in range(100)],\n",
    "    'Fouls A': [random.randint(5, 30) for _ in range(100)],\n",
    "    'Fouls B': [random.randint(5, 30) for _ in range(100)],\n",
    "    'Yellow Cards A': [random.randint(0, 5) for _ in range(100)],\n",
    "    'Yellow Cards B': [random.randint(0, 5) for _ in range(100)],\n",
    "    'Red Cards A': [random.randint(0, 2) for _ in range(100)],\n",
    "    'Red Cards B': [random.randint(0, 2) for _ in range(100)],\n",
    "}\n",
    "\n",
    "# Ensure Team A and Team B are different\n",
    "for _ in range(100):\n",
    "    team_a, team_b = random.sample(teams, 2)\n",
    "    data['Team A'].append(team_a)\n",
    "    data['Team B'].append(team_b)\n",
    "    data['Possession % B'].append(100 - data['Possession % A'][_])\n",
    "\n",
    "df = pd.DataFrame(data)\n",
    "df"
   ],
   "outputs": []
  },
  {
   "cell_type": "markdown",
   "metadata": {},
   "source": [
    "### 2. Feature engineering"
   ]
  },
  {
   "cell_type": "markdown",
   "metadata": {},
   "source": [
    "Tính các chỉ số biểu thị phong độ của 2 đội như số bàn thắng trung bình trong 5 trận gần nhất, mean passes, mean possession, mean shots, ...\n",
    "\n",
    "Lịch sử đối đầu: hiệu số thắng thua,..."
   ]
  },
  {
   "cell_type": "code",
   "execution_count": 2,
   "metadata": {},
   "source": [
    "# Calculate mean goals per match for the last 5 matches of each team\n",
    "df = df.sort_values(by='Time')\n",
    "df['Goals A Mean'] = df['Goals A'].groupby(df['Team A']).rolling(window=5).mean().reset_index(drop=True)\n",
    "df['Goals B Mean'] = df['Goals B'].groupby(df['Team B']).rolling(window=5).mean().reset_index(drop=True)\n",
    "\n",
    "# Calculate mean possession % per match for the last 5 matches of each team\n",
    "df['Possession % A Mean'] = df['Possession % A'].groupby(df['Team A']).rolling(window=5).mean().reset_index(drop=True)\n",
    "df['Possession % B Mean'] = df['Possession % B'].groupby(df['Team B']).rolling(window=5).mean().reset_index(drop=True)\n",
    "\n",
    "# Calculate mean shots per match for the last 5 matches of each team\n",
    "df['Shots A Mean'] = df['Shots A'].groupby(df['Team A']).rolling(window=5).mean().reset_index(drop=True)\n",
    "df['Shots B Mean'] = df['Shots B'].groupby(df['Team B']).rolling(window=5).mean().reset_index(drop=True)\n",
    "\n",
    "# Calculate mean shots on target per match for the last 5 matches of each team\n",
    "df['Shots on Target A Mean'] = df['Shots on Target A'].groupby(df['Team A']).rolling(window=5).mean().reset_index(drop=True)\n",
    "df['Shots on Target B Mean'] = df['Shots on Target B'].groupby(df['Team B']).rolling(window=5).mean().reset_index(drop=True)\n",
    "\n",
    "# Calculate mean passes per match for the last 5 matches of each team\n",
    "df['Passes A Mean'] = df['Passes A'].groupby(df['Team A']).rolling(window=5).mean().reset_index(drop=True)\n",
    "df['Passes B Mean'] = df['Passes B'].groupby(df['Team B']).rolling(window=5).mean().reset_index(drop=True)\n",
    "\n",
    "# Calculate mean fouls per match for the last 5 matches of each team\n",
    "df['Fouls A Mean'] = df['Fouls A'].groupby(df['Team A']).rolling(window=5).mean().reset_index(drop=True)\n",
    "df['Fouls B Mean'] = df['Fouls B'].groupby(df['Team B']).rolling(window=5).mean().reset_index(drop=True)\n",
    "\n",
    "df\n"
   ],
   "outputs": []
  },
  {
   "cell_type": "markdown",
   "metadata": {},
   "source": [
    "### 3. Modeling "
   ]
  },
  {
   "cell_type": "markdown",
   "metadata": {},
   "source": [
    "dự định là input thông số 2 đội, lịch sử đối đầu và dự đoán thắng thua, số bàn "
   ]
  },
  {
   "cell_type": "code",
   "execution_count": 3,
   "metadata": {
    "vscode": {
     "languageId": "ruby"
    }
   },
   "source": [
    "X = df[['Team A', 'Team B', 'Goals A Mean', 'Goals B Mean', 'Possession % A Mean', 'Possession % B Mean', 'Shots A Mean', 'Shots B Mean', 'Shots on Target A Mean', 'Shots on Target B Mean', 'Passes A Mean', 'Passes B Mean', 'Fouls A Mean', 'Fouls B Mean']]\n",
    "# Goals might be difficult to predict, so we can try to predict the outcome of the match\n",
    "y = df.apply(lambda row: 1 if row['Goals A'] > row['Goals B'] else (-1 if row['Goals A'] < row['Goals B'] else 0), axis=1)\n",
    "y"
   ],
   "outputs": []
  }
 ],
 "metadata": {
  "kernelspec": {
   "display_name": "base",
   "language": "python",
   "name": "python3"
  },
  "language_info": {
   "codemirror_mode": {
    "name": "ipython",
    "version": 3
   },
   "file_extension": ".py",
   "mimetype": "text/x-python",
   "name": "python",
   "nbconvert_exporter": "python",
   "pygments_lexer": "ipython3",
   "version": "3.11.5"
  }
 },
 "nbformat": 4,
 "nbformat_minor": 2
}
